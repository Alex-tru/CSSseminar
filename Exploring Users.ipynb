{
 "cells": [
  {
   "cell_type": "markdown",
   "metadata": {},
   "source": [
    "# Import all Modules and CSV"
   ]
  },
  {
   "cell_type": "code",
   "execution_count": 46,
   "metadata": {
    "collapsed": true
   },
   "outputs": [],
   "source": [
    "import pandas as pd\n",
    "import numpy as np"
   ]
  },
  {
   "cell_type": "code",
   "execution_count": 47,
   "metadata": {
    "collapsed": true
   },
   "outputs": [],
   "source": [
    "Users=pd.read_csv(\"../Users.csv\",sep='\\t',lineterminator='\\r',names=['userId','Reputation','Location'])\n",
    "Users=Users.dropna(axis=0, how='any')\n",
    "Users=Users.loc[Users['Reputation']>1]\n",
    "Users=Users.loc[Users['Location']!='Unknown']\n",
    "Users['Country']='NP'"
   ]
  },
  {
   "cell_type": "code",
   "execution_count": 48,
   "metadata": {},
   "outputs": [
    {
     "data": {
      "text/plain": [
       "712966"
      ]
     },
     "execution_count": 48,
     "metadata": {},
     "output_type": "execute_result"
    }
   ],
   "source": [
    "len(Users)"
   ]
  },
  {
   "cell_type": "markdown",
   "metadata": {},
   "source": [
    "# Clean up the UserID"
   ]
  },
  {
   "cell_type": "code",
   "execution_count": 49,
   "metadata": {
    "collapsed": true
   },
   "outputs": [],
   "source": [
    "def UserIdClearner(text):\n",
    "    text=text.strip()\n",
    "    text=text.replace('\"',\"\")\n",
    "    text=text.strip()\n",
    "    text=text.replace('\"',\"\")\n",
    "    \n",
    "    return int(text)"
   ]
  },
  {
   "cell_type": "code",
   "execution_count": 50,
   "metadata": {
    "collapsed": true
   },
   "outputs": [],
   "source": [
    "Users[\"userId\"]=Users[\"userId\"].apply(UserIdClearner)"
   ]
  },
  {
   "cell_type": "markdown",
   "metadata": {},
   "source": [
    "# Getting User Country\n",
    "\n",
    "## Using the major country list"
   ]
  },
  {
   "cell_type": "code",
   "execution_count": 51,
   "metadata": {
    "collapsed": true
   },
   "outputs": [],
   "source": [
    "CountryList=['United States', 'Afghanistan', 'Albania', 'Algeria',\n",
    "       'American Samoa', 'Andorra', 'Angola', 'Anguilla', 'Antarctica',\n",
    "       'Antigua And Barbuda', 'Argentina', 'Armenia', 'Aruba', 'Australia',\n",
    "       'Austria', 'Azerbaijan', 'Bahamas', 'Bahrain', 'Bangladesh',\n",
    "       'Barbados', 'Belarus', 'Belgium', 'Belize', 'Benin', 'Bermuda',\n",
    "       'Bhutan', 'Bolivia', 'Bosnia And Herzegowina', 'Botswana',\n",
    "       'Bouvet Island', 'Brazil', 'Brunei Darussalam', 'Bulgaria',\n",
    "       'Burkina Faso', 'Burundi', 'Cambodia', 'Cameroon', 'Canada',\n",
    "       'Cape Verde', 'Cayman Islands', 'Central African Rep', 'Chad',\n",
    "       'Chile', 'China', 'Christmas Island', 'Cocos Islands', 'Colombia',\n",
    "       'Comoros', 'Congo', 'Cook Islands', 'Costa Rica', 'Cote D`ivoire',\n",
    "       'Croatia', 'Cuba', 'Cyprus', 'Czech Republic', 'Denmark',\n",
    "       'Djibouti', 'Dominica', 'Dominican Republic', 'East Timor',\n",
    "       'Ecuador', 'Egypt', 'El Salvador', 'Equatorial Guinea', 'Eritrea',\n",
    "       'Estonia', 'Ethiopia', 'Falkland Islands',\n",
    "       'Faroe Islands', 'Fiji', 'Finland', 'France', 'French Guiana',\n",
    "       'French Polynesia',  'Gabon', 'Gambia',\n",
    "       'Georgia', 'Germany', 'Ghana', 'Gibraltar', 'Greece', 'Greenland',\n",
    "       'Grenada', 'Guadeloupe', 'Guam', 'Guatemala', 'Guinea',\n",
    "       'Guinea-bissau', 'Guyana', 'Haiti', 'Honduras', 'Hong Kong',\n",
    "       'Hungary', 'Iceland', 'India', 'Indonesia', 'Iran', 'Iraq',\n",
    "       'Ireland', 'Israel', 'Italy', 'Jamaica', 'Japan', 'Jordan',\n",
    "       'Kazakhstan', 'Kenya', 'Kiribati', 'North Korea', 'South Korea',\n",
    "       'Kuwait', 'Kyrgyzstan', 'Laos', 'Latvia', 'Lebanon', 'Lesotho',\n",
    "       'Liberia', 'Libya', 'Liechtenstein', 'Lithuania', 'Luxembourg',\n",
    "       'Macau', 'Macedonia', 'Madagascar', 'Malawi', 'Malaysia',\n",
    "       'Maldives', 'Mali', 'Malta', 'Marshall Islands', 'Martinique',\n",
    "       'Mauritania', 'Mauritius', 'Mayotte', 'Mexico', 'Micronesia',\n",
    "       'Moldova', 'Monaco', 'Mongolia', 'Montserrat', 'Morocco',\n",
    "       'Mozambique', 'Myanmar', 'Namibia', 'Nauru', 'Nepal', 'Netherlands',\n",
    "       'Netherlands Antilles', 'New Caledonia', 'New Zealand', 'Nicaragua',\n",
    "       'Niger', 'Nigeria', 'Niue', 'Norfolk Island',\n",
    "       'Northern Mariana Islands', 'Norway', 'Oman', 'Pakistan', 'Palau',\n",
    "       'Panama', 'Papua New Guinea', 'Paraguay', 'Peru', 'Philippines',\n",
    "       'Pitcairn', 'Poland', 'Portugal', 'Puerto Rico', 'Qatar', 'Reunion',\n",
    "       'Romania', 'Russia', 'Rwanda', 'Saint Kitts And Nevis',\n",
    "       'Saint Lucia', 'St Vincent/Grenadines', 'Samoa', 'San Marino',\n",
    "       'Sao Tome', 'Saudi Arabia', 'Senegal', 'Seychelles', 'Sierra Leone',\n",
    "       'Singapore', 'Slovakia', 'Slovenia', 'Solomon Islands', 'Somalia',\n",
    "       'South Africa', 'Spain', 'Sri Lanka', 'St. Helena', 'St.Pierre',\n",
    "       'Sudan', 'Suriname', 'Swaziland', 'Sweden', 'Switzerland',\n",
    "     'Taiwan', 'Tajikistan', 'Tanzania',\n",
    "       'Thailand', 'Togo', 'Tokelau', 'Tonga', 'Trinidad And Tobago',\n",
    "       'Tunisia', 'Turkey', 'Turkmenistan', 'Tuvalu', 'Uganda', 'Ukraine',\n",
    "       'United Arab Emirates', 'United Kingdom', 'Uruguay', 'Uzbekistan',\n",
    "       'Vanuatu', 'Vatican City State', 'Venezuela','Vietnam',\n",
    "       'Virgin Islands', 'Syria',\n",
    "       'Western Sahara', 'Yemen', 'Zaire', 'Zambia',\n",
    "       'Zimbabwe']"
   ]
  },
  {
   "cell_type": "code",
   "execution_count": 52,
   "metadata": {
    "collapsed": true
   },
   "outputs": [],
   "source": [
    "import string\n",
    "#CountryList=['India','New Zealand','Turkey','Denmark','Norway','Spain','Portugal' ,'Germany', 'Pakistan','United Kingdom', 'France', 'Netherlands', 'United States','Malaysia','Japan','Indonesia', 'Canada','Singapore','Belgium', 'Brazil','Ukraine', 'Russia', 'Sweden', 'China', 'Poland', 'Israel', 'Australia']\n",
    "def GetCountryNaive(location):\n",
    "    check=location.split(',')\n",
    "    Country= check[-1].replace('\"',\"\")\n",
    "    Country=Country.strip()\n",
    "    \n",
    "    if Country=='UK'or Country=='England'or Country=='Scotland' or Country=='Wales':\n",
    "        Country='United Kingdom'\n",
    "    elif Country=='US' or Country=='USA'or Country=='United States of America':\n",
    "        Country='United States'\n",
    "    elif Country=='Brasil':\n",
    "        Country='Brazil'  \n",
    "    elif Country=='Deutschland':\n",
    "        Country='Germany'  \n",
    "    elif Country=='Viet Nam':\n",
    "        Country='Vietnam' \n",
    "    if Country in CountryList:\n",
    "        return Country\n",
    "    else:\n",
    "        check=Country.split(' ')\n",
    "        if len(check)>2:\n",
    "            Country= check[-2]+' '+check[-1].replace('\"',\"\")\n",
    "            if Country in CountryList:\n",
    "                return Country\n",
    "        else:\n",
    "            Country=check[-1].replace('\"',\"\")\n",
    "        if Country in CountryList:\n",
    "            return Country\n",
    "        if check[-1].strip() in CountryList:\n",
    "            return check[-1].strip()\n",
    "        else:\n",
    "            return 'NP'"
   ]
  },
  {
   "cell_type": "code",
   "execution_count": 53,
   "metadata": {
    "collapsed": true
   },
   "outputs": [],
   "source": [
    "Users[\"Country\"]=Users[\"Location\"].apply(GetCountryNaive)"
   ]
  },
  {
   "cell_type": "markdown",
   "metadata": {},
   "source": [
    "## Using the States of United States- Full/Short"
   ]
  },
  {
   "cell_type": "code",
   "execution_count": 54,
   "metadata": {
    "collapsed": true
   },
   "outputs": [],
   "source": [
    "USList=states = [\"AL\", \"AK\", \"AZ\", \"AR\", \"CA\", \"CO\", \"CT\", \"DC\", \"DE\", \"FL\", \"GA\", \n",
    "          \"HI\", \"ID\", \"IL\", \"IN\", \"IA\", \"KS\", \"KY\", \"LA\", \"ME\", \"MD\", \n",
    "          \"MA\", \"MI\", \"MN\", \"MS\", \"MO\", \"MT\", \"NE\", \"NV\", \"NH\", \"NJ\", \n",
    "          \"NM\", \"NY\", \"NC\", \"ND\", \"OH\", \"OK\", \"OR\", \"PA\", \"RI\", \"SC\", \n",
    "          \"SD\", \"TN\", \"TX\", \"UT\", \"VT\", \"VA\", \"WA\", \"WV\", \"WI\", \"WY\" ]\n",
    "\n",
    "USListState=[\"Alabama\",\"Alaska\",\"Arizona\",\"Arkansas\",\"California\",\"Colorado\",\n",
    "  \"Connecticut\",\"Delaware\",\"Florida\",\"Georgia\",\"Hawaii\",\"Idaho\",\"Illinois\",\n",
    "  \"Indiana\",\"Iowa\",\"Kansas\",\"Kentucky\",\"Louisiana\",\"Maine\",\"Maryland\",\n",
    "  \"Massachusetts\",\"Michigan\",\"Minnesota\",\"Mississippi\",\"Missouri\",\"Montana\",\n",
    "  \"Nebraska\",\"Nevada\",\"New Hampshire\",\"New Jersey\",\"New Mexico\",\"New York\",\n",
    "  \"North Carolina\",\"North Dakota\",\"Ohio\",\"Oklahoma\",\"Oregon\",\"Pennsylvania\",\n",
    "  \"Rhode Island\",\"South Carolina\",\"South Dakota\",\"Tennessee\",\"Texas\",\"Utah\",\n",
    "  \"Vermont\",\"Virginia\",\"Washington\",\"West Virginia\",\"Wisconsin\",\"Wyoming\",\"San Fransisco\"]\n",
    "\n",
    "CanadaList=['YT','PE','BC','AB','ON','NB','SK','NS','QC','MB']\n",
    "def GetStatesUSnCanadaNaive(location):\n",
    "    check=location.split(',')\n",
    "    Country= check[-1].replace('\"',\"\")\n",
    "    Country=Country.strip()\n",
    "        \n",
    "    if Country in USList:\n",
    "        return 'United States'\n",
    "    \n",
    "    if Country in CanadaList:\n",
    "        return 'Canada'\n",
    "    \n",
    "    if Country in USListState:\n",
    "        return 'United States'\n",
    "    \n",
    "    else:\n",
    "        check=Country.split(' ')\n",
    "        if len(check)>2:\n",
    "            Country= check[-2]+' '+check[-1].replace('\"',\"\")\n",
    "        else:\n",
    "            Country=check[-1].replace('\"',\"\")\n",
    "        if Country in USListState:\n",
    "            return 'United States'\n",
    "        if check[-1] in USListState:\n",
    "            return 'United States'\n",
    "        else:\n",
    "            return 'NP'"
   ]
  },
  {
   "cell_type": "code",
   "execution_count": 55,
   "metadata": {
    "collapsed": true
   },
   "outputs": [],
   "source": [
    "RemainUsers=Users[:].loc[Users[\"Country\"]=='NP']\n",
    "DoneUsers=Users[:].loc[Users[\"Country\"]!='NP']\n",
    "RemainUsers[\"Country\"]=RemainUsers[\"Location\"].apply(GetStatesUSnCanadaNaive)"
   ]
  },
  {
   "cell_type": "code",
   "execution_count": 56,
   "metadata": {
    "collapsed": true
   },
   "outputs": [],
   "source": [
    "Users=pd.concat([DoneUsers, RemainUsers])\n",
    "Users=Users.sort_values(by='userId')"
   ]
  },
  {
   "cell_type": "code",
   "execution_count": 57,
   "metadata": {
    "collapsed": true
   },
   "outputs": [],
   "source": [
    "RemainUsers=Users[:].loc[Users[\"Country\"]=='NP']\n",
    "DoneUsers=Users[:].loc[Users[\"Country\"]!='NP']"
   ]
  },
  {
   "cell_type": "code",
   "execution_count": 58,
   "metadata": {
    "collapsed": true
   },
   "outputs": [],
   "source": [
    "from geotext import GeoText\n",
    "import pycountry\n",
    "def CheckCountryorCity(text):\n",
    "    places = GeoText(text)\n",
    "    if len(places.cities)>0:\n",
    "        CountryCode=list(places.country_mentions.keys())\n",
    "        if CountryCode[0]== 'XK':\n",
    "            return 'Kosovo'\n",
    "        if CountryCode[0]== 'UK':\n",
    "            return 'United Kingdom'\n",
    "        Country = pycountry.countries.get(alpha_2=CountryCode[0])\n",
    "        return Country.name\n",
    "    if len(places.country_mentions)>0:\n",
    "        CountryCode=list(places.country_mentions.keys())\n",
    "        if CountryCode[0]== 'XK':\n",
    "            return 'Kosovo'\n",
    "        if CountryCode[0]== 'UK':\n",
    "            return 'United Kingdom'\n",
    "        Country = pycountry.countries.get(alpha_2=CountryCode[0])\n",
    "        return Country.name\n",
    "\n",
    "    return 'Check'"
   ]
  },
  {
   "cell_type": "code",
   "execution_count": 59,
   "metadata": {
    "collapsed": true
   },
   "outputs": [],
   "source": [
    "def SpellChecks(text):\n",
    "    if text=='Russian Federartio':\n",
    "        return 'Russia'\n",
    "    if text=='Venezuela, Bolivarian Republic of':\n",
    "        return 'Venezuala'\n",
    "    if text=='Czechia':\n",
    "        return 'Czech Republic'\n",
    "    if text=='Korea, Republic of':\n",
    "        return 'South Korea'\n",
    "    if text=='Iran, Islamic Republic of':\n",
    "        return 'Iran'\n",
    "    if text=='Taiwan, Province of China':\n",
    "        return 'Taiwan'\n",
    "    if text=='Moldova, Republic of':\n",
    "        return 'Moldova'\n",
    "    if text=='Bolivia, Plurinational State of':\n",
    "        return 'Bolivia'\n",
    "    if text=='Syrian Arab Republic':\n",
    "        return 'Syria'\n",
    "    if text==\"Korea, Democratic People's Republic of\":\n",
    "        return 'North Korea'\n",
    "    if text==\"Congo, The Democratic Republic of the\":\n",
    "        return 'Congo'\n",
    "    if text==\"Tanzania, United Republic of\":\n",
    "        return 'Tanzania'\n",
    "    if text==\"Lao People's Democratic Republic\":\n",
    "        return 'Laos'\n",
    "    else:\n",
    "        return text"
   ]
  },
  {
   "cell_type": "code",
   "execution_count": 60,
   "metadata": {
    "collapsed": true
   },
   "outputs": [],
   "source": [
    "RemainUsers[\"Country\"]=RemainUsers[\"Location\"].apply(CheckCountryorCity)"
   ]
  },
  {
   "cell_type": "code",
   "execution_count": 61,
   "metadata": {
    "collapsed": true
   },
   "outputs": [],
   "source": [
    "Users=pd.concat([DoneUsers, RemainUsers])\n",
    "Users=Users.sort_values(by='userId')"
   ]
  },
  {
   "cell_type": "code",
   "execution_count": 62,
   "metadata": {
    "collapsed": true
   },
   "outputs": [],
   "source": [
    "#RemainUsers=Users[:].loc[Users[\"Country\"]=='Check']\n",
    "Users=Users[:].loc[Users[\"Country\"]!='Check']"
   ]
  },
  {
   "cell_type": "code",
   "execution_count": 63,
   "metadata": {
    "collapsed": true
   },
   "outputs": [],
   "source": [
    "Users[\"Country\"]=Users[\"Country\"].apply(SpellChecks)"
   ]
  },
  {
   "cell_type": "code",
   "execution_count": 64,
   "metadata": {},
   "outputs": [
    {
     "data": {
      "text/html": [
       "<div>\n",
       "<style>\n",
       "    .dataframe thead tr:only-child th {\n",
       "        text-align: right;\n",
       "    }\n",
       "\n",
       "    .dataframe thead th {\n",
       "        text-align: left;\n",
       "    }\n",
       "\n",
       "    .dataframe tbody tr th {\n",
       "        vertical-align: top;\n",
       "    }\n",
       "</style>\n",
       "<table border=\"1\" class=\"dataframe\">\n",
       "  <thead>\n",
       "    <tr style=\"text-align: right;\">\n",
       "      <th></th>\n",
       "      <th>userId</th>\n",
       "      <th>Reputation</th>\n",
       "      <th>Location</th>\n",
       "      <th>Country</th>\n",
       "    </tr>\n",
       "  </thead>\n",
       "  <tbody>\n",
       "    <tr>\n",
       "      <th>2</th>\n",
       "      <td>1</td>\n",
       "      <td>41626.0</td>\n",
       "      <td>El Cerrito, CA\"</td>\n",
       "      <td>United States</td>\n",
       "    </tr>\n",
       "    <tr>\n",
       "      <th>3</th>\n",
       "      <td>2</td>\n",
       "      <td>3100.0</td>\n",
       "      <td>Corvallis, OR, United States\"</td>\n",
       "      <td>United States</td>\n",
       "    </tr>\n",
       "    <tr>\n",
       "      <th>4</th>\n",
       "      <td>3</td>\n",
       "      <td>13028.0</td>\n",
       "      <td>Raleigh, NC, United States\"</td>\n",
       "      <td>United States</td>\n",
       "    </tr>\n",
       "    <tr>\n",
       "      <th>5</th>\n",
       "      <td>4</td>\n",
       "      <td>27501.0</td>\n",
       "      <td>New York, NY\"</td>\n",
       "      <td>United States</td>\n",
       "    </tr>\n",
       "    <tr>\n",
       "      <th>6</th>\n",
       "      <td>5</td>\n",
       "      <td>37057.0</td>\n",
       "      <td>San Diego, CA\"</td>\n",
       "      <td>United States</td>\n",
       "    </tr>\n",
       "  </tbody>\n",
       "</table>\n",
       "</div>"
      ],
      "text/plain": [
       "   userId  Reputation                       Location        Country\n",
       "2       1     41626.0                El Cerrito, CA\"  United States\n",
       "3       2      3100.0  Corvallis, OR, United States\"  United States\n",
       "4       3     13028.0    Raleigh, NC, United States\"  United States\n",
       "5       4     27501.0                  New York, NY\"  United States\n",
       "6       5     37057.0                 San Diego, CA\"  United States"
      ]
     },
     "execution_count": 64,
     "metadata": {},
     "output_type": "execute_result"
    }
   ],
   "source": [
    "Users.head()"
   ]
  },
  {
   "cell_type": "code",
   "execution_count": 65,
   "metadata": {
    "collapsed": true
   },
   "outputs": [],
   "source": [
    "USDATA=pd.read_csv(\"../DIOC_OCCUPATION_DET_15122017142929203.csv\")"
   ]
  },
  {
   "cell_type": "code",
   "execution_count": 66,
   "metadata": {
    "collapsed": true
   },
   "outputs": [],
   "source": [
    "USDATA=USDATA.loc[USDATA['Detailed occupation']=='Computer and mathematical science occupations']\n",
    "USDATA['Country']=USDATA['Country of birth']"
   ]
  },
  {
   "cell_type": "code",
   "execution_count": 67,
   "metadata": {},
   "outputs": [
    {
     "data": {
      "text/plain": [
       "array(['Africa', 'Algeria', 'Cameroon', 'Cape Verde', 'Egypt', 'Eritrea',\n",
       "       'Ethiopia', 'Ghana', 'Kenya', 'Liberia', 'Morocco', 'Nigeria',\n",
       "       'Sierra Leone', 'Somalia', 'South Africa', 'Senegal', 'Sudan',\n",
       "       'Uganda', 'United Rep. of Tanzania', 'Zimbabwe',\n",
       "       'Unknown place of birth in Africa',\n",
       "       'Unknown place of birth in Asia', 'Vietnam', 'Yemen', 'Uzbekistan',\n",
       "       'Sri Lanka', 'Syria', 'Thailand', 'South Korea', 'Singapore',\n",
       "       'Saudi Arabia', 'North and South Korea', 'Pakistan', 'Philippines',\n",
       "       'Myanmar', 'Nepal', 'Malaysia', 'Lebanon', 'Kuwait', 'Laos',\n",
       "       'Japan', 'Jordan', 'Hong Kong', 'Israel', 'India', 'Indonesia',\n",
       "       'Iran', 'Iraq', 'China', 'Chinese Taipei', 'Cambodia', 'Azerbaijan',\n",
       "       'Bangladesh', 'Armenia', 'Afghanistan', 'Asia', 'Europe', 'Albania',\n",
       "       'Belarus', 'Belgium', 'Austria', 'Bosnia-Herzegovina', 'Bulgaria',\n",
       "       'Cyprus', 'Czech Republic', 'Denmark', 'Croatia', 'Ireland',\n",
       "       'Italy', 'Hungary', 'Greece', 'Georgia', 'Germany', 'Finland',\n",
       "       'Former Czechoslovakia', 'Former USSR', 'Former Yugoslavia',\n",
       "       'France', 'Latvia', 'Lithuania', 'Macedonia', 'Moldova',\n",
       "       'Netherlands', 'Norway', 'Romania', 'Russia', 'Poland', 'Portugal',\n",
       "       'Slovak Republic', 'Spain', 'Serbia and Montenegro', 'Turkey',\n",
       "       'Sweden', 'Switzerland', 'United Kingdom', 'Ukraine',\n",
       "       'Unknown place of birth in Europe', 'United States', 'Canada',\n",
       "       'North America', 'Oceania', 'American Samoa', 'Australia',\n",
       "       'New Zealand', 'Fiji', 'Guam', 'Tonga', 'Samoa',\n",
       "       'Unknown place of birth in Oceania', 'Venezuela',\n",
       "       'Unknown place of birth in South and Central America and Carribean',\n",
       "       'Salvador', 'Panama', 'Paraguay', 'Peru', 'Puerto Rico',\n",
       "       'Saint Kitts and Nevis', 'Saint Lucia',\n",
       "       'Saint Vincent & Grenadines', 'Trinidad and Tobago',\n",
       "       'United States Virgin Islands', 'Uruguay', 'Guatemala', 'Honduras',\n",
       "       'Jamaica', 'Grenada', 'Guyana', 'Haiti', 'Mexico', 'Nicaragua',\n",
       "       'Costa Rica', 'Colombia', 'Cuba', 'Chile', 'Dominica',\n",
       "       'Dominican Republic', 'Ecuador', 'Antigua and Barbuda', 'Argentina',\n",
       "       'South and Central America and Caribbean', 'Bolivia', 'Brazil',\n",
       "       'Belize', 'Bermuda', 'Barbados', 'Bahamas',\n",
       "       'Other and unknown places of birth',\n",
       "       'Other place of birth (foreign-born)', 'All countries of birth',\n",
       "       'Tanzania', 'North Korea', 'South Korea', 'Taiwan'], dtype=object)"
      ]
     },
     "execution_count": 67,
     "metadata": {},
     "output_type": "execute_result"
    }
   ],
   "source": [
    "validcountry=USDATA.Country.unique()\n",
    "validcountry=np.append(validcountry,'Tanzania')\n",
    "validcountry=np.append(validcountry,'North Korea')\n",
    "validcountry=np.append(validcountry,'South Korea')\n",
    "validcountry=np.append(validcountry,'Taiwan')\n",
    "validcountry"
   ]
  },
  {
   "cell_type": "code",
   "execution_count": 68,
   "metadata": {
    "collapsed": true
   },
   "outputs": [],
   "source": [
    "#Users=#RemainUsers=Users[:].loc[Users[\"Country\"]=='Check']\n",
    "#Users=Users.loc[Users[\"Country\"]in validcountry]\n",
    "ValidUsers = Users[Users['Country'].isin(validcountry)]\n",
    "ValidUsers=ValidUsers.drop(['Location'], axis=1)\n",
    "#ValidUsers "
   ]
  },
  {
   "cell_type": "code",
   "execution_count": 77,
   "metadata": {},
   "outputs": [
    {
     "data": {
      "text/html": [
       "<div>\n",
       "<style>\n",
       "    .dataframe thead tr:only-child th {\n",
       "        text-align: right;\n",
       "    }\n",
       "\n",
       "    .dataframe thead th {\n",
       "        text-align: left;\n",
       "    }\n",
       "\n",
       "    .dataframe tbody tr th {\n",
       "        vertical-align: top;\n",
       "    }\n",
       "</style>\n",
       "<table border=\"1\" class=\"dataframe\">\n",
       "  <thead>\n",
       "    <tr style=\"text-align: right;\">\n",
       "      <th></th>\n",
       "      <th>Country</th>\n",
       "    </tr>\n",
       "  </thead>\n",
       "  <tbody>\n",
       "    <tr>\n",
       "      <th>United States</th>\n",
       "      <td>171067</td>\n",
       "    </tr>\n",
       "    <tr>\n",
       "      <th>India</th>\n",
       "      <td>100440</td>\n",
       "    </tr>\n",
       "    <tr>\n",
       "      <th>United Kingdom</th>\n",
       "      <td>46100</td>\n",
       "    </tr>\n",
       "    <tr>\n",
       "      <th>Germany</th>\n",
       "      <td>31817</td>\n",
       "    </tr>\n",
       "    <tr>\n",
       "      <th>Canada</th>\n",
       "      <td>23027</td>\n",
       "    </tr>\n",
       "    <tr>\n",
       "      <th>France</th>\n",
       "      <td>17702</td>\n",
       "    </tr>\n",
       "    <tr>\n",
       "      <th>Australia</th>\n",
       "      <td>15271</td>\n",
       "    </tr>\n",
       "    <tr>\n",
       "      <th>Brazil</th>\n",
       "      <td>14609</td>\n",
       "    </tr>\n",
       "    <tr>\n",
       "      <th>Netherlands</th>\n",
       "      <td>12892</td>\n",
       "    </tr>\n",
       "    <tr>\n",
       "      <th>China</th>\n",
       "      <td>11584</td>\n",
       "    </tr>\n",
       "    <tr>\n",
       "      <th>Russia</th>\n",
       "      <td>11334</td>\n",
       "    </tr>\n",
       "    <tr>\n",
       "      <th>Spain</th>\n",
       "      <td>9060</td>\n",
       "    </tr>\n",
       "    <tr>\n",
       "      <th>Poland</th>\n",
       "      <td>9028</td>\n",
       "    </tr>\n",
       "    <tr>\n",
       "      <th>Italy</th>\n",
       "      <td>9000</td>\n",
       "    </tr>\n",
       "    <tr>\n",
       "      <th>Sweden</th>\n",
       "      <td>8751</td>\n",
       "    </tr>\n",
       "    <tr>\n",
       "      <th>Pakistan</th>\n",
       "      <td>8596</td>\n",
       "    </tr>\n",
       "    <tr>\n",
       "      <th>Ukraine</th>\n",
       "      <td>7079</td>\n",
       "    </tr>\n",
       "    <tr>\n",
       "      <th>Belgium</th>\n",
       "      <td>5526</td>\n",
       "    </tr>\n",
       "    <tr>\n",
       "      <th>Switzerland</th>\n",
       "      <td>5234</td>\n",
       "    </tr>\n",
       "    <tr>\n",
       "      <th>Israel</th>\n",
       "      <td>5213</td>\n",
       "    </tr>\n",
       "    <tr>\n",
       "      <th>Iran</th>\n",
       "      <td>4933</td>\n",
       "    </tr>\n",
       "    <tr>\n",
       "      <th>Philippines</th>\n",
       "      <td>4803</td>\n",
       "    </tr>\n",
       "    <tr>\n",
       "      <th>Denmark</th>\n",
       "      <td>4801</td>\n",
       "    </tr>\n",
       "    <tr>\n",
       "      <th>Turkey</th>\n",
       "      <td>4757</td>\n",
       "    </tr>\n",
       "    <tr>\n",
       "      <th>South Africa</th>\n",
       "      <td>4736</td>\n",
       "    </tr>\n",
       "    <tr>\n",
       "      <th>Romania</th>\n",
       "      <td>4664</td>\n",
       "    </tr>\n",
       "    <tr>\n",
       "      <th>Indonesia</th>\n",
       "      <td>4308</td>\n",
       "    </tr>\n",
       "    <tr>\n",
       "      <th>Portugal</th>\n",
       "      <td>4085</td>\n",
       "    </tr>\n",
       "    <tr>\n",
       "      <th>Ireland</th>\n",
       "      <td>4023</td>\n",
       "    </tr>\n",
       "    <tr>\n",
       "      <th>Bangladesh</th>\n",
       "      <td>3969</td>\n",
       "    </tr>\n",
       "    <tr>\n",
       "      <th>...</th>\n",
       "      <td>...</td>\n",
       "    </tr>\n",
       "    <tr>\n",
       "      <th>Cameroon</th>\n",
       "      <td>149</td>\n",
       "    </tr>\n",
       "    <tr>\n",
       "      <th>Afghanistan</th>\n",
       "      <td>146</td>\n",
       "    </tr>\n",
       "    <tr>\n",
       "      <th>Zimbabwe</th>\n",
       "      <td>140</td>\n",
       "    </tr>\n",
       "    <tr>\n",
       "      <th>Tanzania</th>\n",
       "      <td>138</td>\n",
       "    </tr>\n",
       "    <tr>\n",
       "      <th>Honduras</th>\n",
       "      <td>116</td>\n",
       "    </tr>\n",
       "    <tr>\n",
       "      <th>Sudan</th>\n",
       "      <td>83</td>\n",
       "    </tr>\n",
       "    <tr>\n",
       "      <th>Yemen</th>\n",
       "      <td>65</td>\n",
       "    </tr>\n",
       "    <tr>\n",
       "      <th>Senegal</th>\n",
       "      <td>59</td>\n",
       "    </tr>\n",
       "    <tr>\n",
       "      <th>Fiji</th>\n",
       "      <td>40</td>\n",
       "    </tr>\n",
       "    <tr>\n",
       "      <th>Bermuda</th>\n",
       "      <td>30</td>\n",
       "    </tr>\n",
       "    <tr>\n",
       "      <th>Barbados</th>\n",
       "      <td>23</td>\n",
       "    </tr>\n",
       "    <tr>\n",
       "      <th>Somalia</th>\n",
       "      <td>21</td>\n",
       "    </tr>\n",
       "    <tr>\n",
       "      <th>Bahamas</th>\n",
       "      <td>20</td>\n",
       "    </tr>\n",
       "    <tr>\n",
       "      <th>Belize</th>\n",
       "      <td>18</td>\n",
       "    </tr>\n",
       "    <tr>\n",
       "      <th>Laos</th>\n",
       "      <td>18</td>\n",
       "    </tr>\n",
       "    <tr>\n",
       "      <th>Haiti</th>\n",
       "      <td>17</td>\n",
       "    </tr>\n",
       "    <tr>\n",
       "      <th>Guyana</th>\n",
       "      <td>16</td>\n",
       "    </tr>\n",
       "    <tr>\n",
       "      <th>North Korea</th>\n",
       "      <td>14</td>\n",
       "    </tr>\n",
       "    <tr>\n",
       "      <th>Guam</th>\n",
       "      <td>12</td>\n",
       "    </tr>\n",
       "    <tr>\n",
       "      <th>Cape Verde</th>\n",
       "      <td>10</td>\n",
       "    </tr>\n",
       "    <tr>\n",
       "      <th>Sierra Leone</th>\n",
       "      <td>8</td>\n",
       "    </tr>\n",
       "    <tr>\n",
       "      <th>Dominica</th>\n",
       "      <td>7</td>\n",
       "    </tr>\n",
       "    <tr>\n",
       "      <th>Eritrea</th>\n",
       "      <td>6</td>\n",
       "    </tr>\n",
       "    <tr>\n",
       "      <th>Grenada</th>\n",
       "      <td>5</td>\n",
       "    </tr>\n",
       "    <tr>\n",
       "      <th>Liberia</th>\n",
       "      <td>5</td>\n",
       "    </tr>\n",
       "    <tr>\n",
       "      <th>Trinidad and Tobago</th>\n",
       "      <td>5</td>\n",
       "    </tr>\n",
       "    <tr>\n",
       "      <th>Saint Lucia</th>\n",
       "      <td>3</td>\n",
       "    </tr>\n",
       "    <tr>\n",
       "      <th>American Samoa</th>\n",
       "      <td>3</td>\n",
       "    </tr>\n",
       "    <tr>\n",
       "      <th>Tonga</th>\n",
       "      <td>2</td>\n",
       "    </tr>\n",
       "    <tr>\n",
       "      <th>Samoa</th>\n",
       "      <td>2</td>\n",
       "    </tr>\n",
       "  </tbody>\n",
       "</table>\n",
       "<p>124 rows × 1 columns</p>\n",
       "</div>"
      ],
      "text/plain": [
       "                     Country\n",
       "United States         171067\n",
       "India                 100440\n",
       "United Kingdom         46100\n",
       "Germany                31817\n",
       "Canada                 23027\n",
       "France                 17702\n",
       "Australia              15271\n",
       "Brazil                 14609\n",
       "Netherlands            12892\n",
       "China                  11584\n",
       "Russia                 11334\n",
       "Spain                   9060\n",
       "Poland                  9028\n",
       "Italy                   9000\n",
       "Sweden                  8751\n",
       "Pakistan                8596\n",
       "Ukraine                 7079\n",
       "Belgium                 5526\n",
       "Switzerland             5234\n",
       "Israel                  5213\n",
       "Iran                    4933\n",
       "Philippines             4803\n",
       "Denmark                 4801\n",
       "Turkey                  4757\n",
       "South Africa            4736\n",
       "Romania                 4664\n",
       "Indonesia               4308\n",
       "Portugal                4085\n",
       "Ireland                 4023\n",
       "Bangladesh              3969\n",
       "...                      ...\n",
       "Cameroon                 149\n",
       "Afghanistan              146\n",
       "Zimbabwe                 140\n",
       "Tanzania                 138\n",
       "Honduras                 116\n",
       "Sudan                     83\n",
       "Yemen                     65\n",
       "Senegal                   59\n",
       "Fiji                      40\n",
       "Bermuda                   30\n",
       "Barbados                  23\n",
       "Somalia                   21\n",
       "Bahamas                   20\n",
       "Belize                    18\n",
       "Laos                      18\n",
       "Haiti                     17\n",
       "Guyana                    16\n",
       "North Korea               14\n",
       "Guam                      12\n",
       "Cape Verde                10\n",
       "Sierra Leone               8\n",
       "Dominica                   7\n",
       "Eritrea                    6\n",
       "Grenada                    5\n",
       "Liberia                    5\n",
       "Trinidad and Tobago        5\n",
       "Saint Lucia                3\n",
       "American Samoa             3\n",
       "Tonga                      2\n",
       "Samoa                      2\n",
       "\n",
       "[124 rows x 1 columns]"
      ]
     },
     "execution_count": 77,
     "metadata": {},
     "output_type": "execute_result"
    }
   ],
   "source": [
    "CountryStat=pd.DataFrame(ValidUsers.Country.value_counts())\n",
    "CountryStat.to_pickle('../CountryStat.pickle')\n",
    "CountryStat.to_csv(\"../UsersLocationWise.csv\")\n",
    "CountryStat"
   ]
  },
  {
   "cell_type": "code",
   "execution_count": 72,
   "metadata": {},
   "outputs": [
    {
     "data": {
      "text/plain": [
       "userId        5698127.22\n",
       "Reputation        648.00\n",
       "Name: 0.83, dtype: float64"
      ]
     },
     "execution_count": 72,
     "metadata": {},
     "output_type": "execute_result"
    }
   ],
   "source": [
    "ValidUsers.quantile(.83)"
   ]
  },
  {
   "cell_type": "code",
   "execution_count": 73,
   "metadata": {
    "collapsed": true
   },
   "outputs": [],
   "source": [
    "\n",
    "Top17pcUsers=ValidUsers.loc[Users['Reputation']>648]\n",
    "Top17pcUsers.to_csv(\"../Top17pcUsers.csv\",index= False)"
   ]
  },
  {
   "cell_type": "code",
   "execution_count": 74,
   "metadata": {},
   "outputs": [
    {
     "data": {
      "text/plain": [
       "userId        631335.46\n",
       "Reputation        11.00\n",
       "Name: 0.17, dtype: float64"
      ]
     },
     "execution_count": 74,
     "metadata": {},
     "output_type": "execute_result"
    }
   ],
   "source": [
    "ValidUsers.quantile(.17)"
   ]
  },
  {
   "cell_type": "code",
   "execution_count": 75,
   "metadata": {
    "collapsed": true
   },
   "outputs": [],
   "source": [
    "\n",
    "Bottom17pcUsers=ValidUsers.loc[Users['Reputation']<11]\n",
    "Bottom17pcUsers.to_csv(\"../Bottom17pcUsers.csv\",index= False)"
   ]
  },
  {
   "cell_type": "code",
   "execution_count": 76,
   "metadata": {
    "collapsed": true
   },
   "outputs": [],
   "source": [
    "ValidUsers.to_csv(\"../UsersWithCountry.csv\",index= False)"
   ]
  }
 ],
 "metadata": {
  "kernelspec": {
   "display_name": "Python 3",
   "language": "python",
   "name": "python3"
  },
  "language_info": {
   "codemirror_mode": {
    "name": "ipython",
    "version": 3
   },
   "file_extension": ".py",
   "mimetype": "text/x-python",
   "name": "python",
   "nbconvert_exporter": "python",
   "pygments_lexer": "ipython3",
   "version": "3.6.3"
  }
 },
 "nbformat": 4,
 "nbformat_minor": 2
}
